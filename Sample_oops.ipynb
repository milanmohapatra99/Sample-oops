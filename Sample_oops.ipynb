{
 "cells": [
  {
   "cell_type": "markdown",
   "id": "1d3f8f9c",
   "metadata": {},
   "source": [
    "Create a class with a class attribute a ; create an object from it and set a directly using object a = 0.Does this change the class attribute."
   ]
  },
  {
   "cell_type": "code",
   "execution_count": 2,
   "id": "ca9bd29c",
   "metadata": {},
   "outputs": [
    {
     "name": "stdout",
     "output_type": "stream",
     "text": [
      "Steve\n",
      "Joseph\n"
     ]
    }
   ],
   "source": [
    "class Sample:\n",
    "    a = \"Steve\"\n",
    "obj = Sample()\n",
    "obj.a = \"Joseph\"\n",
    "\n",
    "print(Sample.a)\n",
    "print(obj.a)"
   ]
  },
  {
   "cell_type": "code",
   "execution_count": null,
   "id": "f49a64d5",
   "metadata": {},
   "outputs": [],
   "source": []
  }
 ],
 "metadata": {
  "kernelspec": {
   "display_name": "Python 3 (ipykernel)",
   "language": "python",
   "name": "python3"
  },
  "language_info": {
   "codemirror_mode": {
    "name": "ipython",
    "version": 3
   },
   "file_extension": ".py",
   "mimetype": "text/x-python",
   "name": "python",
   "nbconvert_exporter": "python",
   "pygments_lexer": "ipython3",
   "version": "3.9.7"
  }
 },
 "nbformat": 4,
 "nbformat_minor": 5
}
